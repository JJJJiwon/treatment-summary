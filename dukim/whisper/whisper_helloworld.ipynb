{
 "cells": [
  {
   "cell_type": "code",
   "execution_count": null,
   "id": "168db950a3e309f",
   "metadata": {
    "collapsed": true,
    "is_executing": true
   },
   "outputs": [],
   "source": [
    "# ! pip install -U openai-whisper"
   ]
  },
  {
   "cell_type": "code",
   "execution_count": 22,
   "outputs": [],
   "source": [
    "import os"
   ],
   "metadata": {
    "collapsed": false,
    "ExecuteTime": {
     "end_time": "2023-12-26T08:10:39.695539100Z",
     "start_time": "2023-12-26T08:10:39.685057900Z"
    }
   },
   "id": "c2177bc1e47f44cb"
  },
  {
   "cell_type": "code",
   "execution_count": 23,
   "outputs": [],
   "source": [
    "# conda install -c conda-forge ffmpeg\n",
    "import whisper"
   ],
   "metadata": {
    "collapsed": false,
    "ExecuteTime": {
     "end_time": "2023-12-26T08:10:40.003233500Z",
     "start_time": "2023-12-26T08:10:39.994754800Z"
    }
   },
   "id": "e507c1a63411d5d2"
  },
  {
   "cell_type": "code",
   "execution_count": 24,
   "outputs": [],
   "source": [
    "data_path = '../../data/'\n",
    "# data_path = '/content/sample_data/'"
   ],
   "metadata": {
    "collapsed": false,
    "ExecuteTime": {
     "end_time": "2023-12-26T08:10:40.468536200Z",
     "start_time": "2023-12-26T08:10:40.451131700Z"
    }
   },
   "id": "f2ab42656473baa6"
  },
  {
   "cell_type": "code",
   "execution_count": 25,
   "outputs": [],
   "source": [
    "model = whisper.load_model(\"base\")"
   ],
   "metadata": {
    "collapsed": false,
    "ExecuteTime": {
     "end_time": "2023-12-26T08:10:42.054131200Z",
     "start_time": "2023-12-26T08:10:40.977431Z"
    }
   },
   "id": "166c97b595b814f0"
  },
  {
   "cell_type": "code",
   "execution_count": 26,
   "outputs": [
    {
     "name": "stdout",
     "output_type": "stream",
     "text": [
      " 여름에 시작, 치러레 햇살 아래 수영과 지원, 미영 그리고 홍민이 패널끼의 꿈을 품고 가름을 내리 띠었지 영진잠인 연비는 CBA기를 체켰네 함께 라서 도강해 도대체 캠퍼 새 친구들 고딩 속에 숨겨진 우정과 도전 화이팅 넘치는 우리 들의 여정 패스트 캠퍼스의 꿈 오늘도 펼쳐진 애 겨우 바람 속에서도 고딩은 계속된 문제들을 풀며 밤에서 오가는 우리 프로젝트의 도전, 때론 힘겨워도 서로 외미 소박 우리 다시 이렇게 얻어오지 함께 라서 도강해 도대체 캠퍼 새 친구들 내는 비와 CD도 꿈의 좋아 힘차게 나가는 우리들의 발걸음 패스트 캠퍼 새 별벨 오늘도 비 나리 시비원의 겨우 마지막 프로젝트 앞에서 서로의 성장에 느낄 수 있어 수영생들의 웃음 그 속에서 빛나는 우리들의 노력 잊지 못한 추억이 데리 함께 라서 더 비 나리 시비원의 겨우\n"
     ]
    }
   ],
   "source": [
    "path = os.path.join(data_path, 'sample_data.mp3')\n",
    "result = model.transcribe(path)\n",
    "print(result[\"text\"])"
   ],
   "metadata": {
    "collapsed": false,
    "ExecuteTime": {
     "end_time": "2023-12-26T08:21:45.449323300Z",
     "start_time": "2023-12-26T08:10:42.057076900Z"
    }
   },
   "id": "initial_id"
  },
  {
   "cell_type": "code",
   "execution_count": null,
   "outputs": [],
   "source": [],
   "metadata": {
    "collapsed": false
   },
   "id": "5f75818b50cb413a"
  }
 ],
 "metadata": {
  "kernelspec": {
   "display_name": "Python 3",
   "language": "python",
   "name": "python3"
  },
  "language_info": {
   "codemirror_mode": {
    "name": "ipython",
    "version": 2
   },
   "file_extension": ".py",
   "mimetype": "text/x-python",
   "name": "python",
   "nbconvert_exporter": "python",
   "pygments_lexer": "ipython2",
   "version": "2.7.6"
  }
 },
 "nbformat": 4,
 "nbformat_minor": 5
}
